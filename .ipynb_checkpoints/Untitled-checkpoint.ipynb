{
 "cells": [
  {
   "cell_type": "code",
   "execution_count": 1,
   "id": "de1059a8",
   "metadata": {},
   "outputs": [],
   "source": [
    "import matplotlib.pyplot as plt\n",
    "import pandas as pd\n",
    "import numpy as np\n",
    "import requests\n",
    "import time\n",
    "import json\n",
    "from pprint import pprint"
   ]
  },
  {
   "cell_type": "code",
   "execution_count": 2,
   "id": "01b33a77",
   "metadata": {
    "scrolled": false
   },
   "outputs": [
    {
     "data": {
      "text/html": [
       "<div>\n",
       "<style scoped>\n",
       "    .dataframe tbody tr th:only-of-type {\n",
       "        vertical-align: middle;\n",
       "    }\n",
       "\n",
       "    .dataframe tbody tr th {\n",
       "        vertical-align: top;\n",
       "    }\n",
       "\n",
       "    .dataframe thead th {\n",
       "        text-align: right;\n",
       "    }\n",
       "</style>\n",
       "<table border=\"1\" class=\"dataframe\">\n",
       "  <thead>\n",
       "    <tr style=\"text-align: right;\">\n",
       "      <th></th>\n",
       "      <th>Ticker</th>\n",
       "      <th>Open Costs</th>\n",
       "      <th>Closing Costs</th>\n",
       "      <th>Date</th>\n",
       "    </tr>\n",
       "  </thead>\n",
       "  <tbody>\n",
       "    <tr>\n",
       "      <th>0</th>\n",
       "      <td>AMD</td>\n",
       "      <td>7.41</td>\n",
       "      <td>7.510</td>\n",
       "      <td>2010-12-31</td>\n",
       "    </tr>\n",
       "    <tr>\n",
       "      <th>1</th>\n",
       "      <td>AMD</td>\n",
       "      <td>7.29</td>\n",
       "      <td>7.290</td>\n",
       "      <td>2010-11-30</td>\n",
       "    </tr>\n",
       "    <tr>\n",
       "      <th>2</th>\n",
       "      <td>AMD</td>\n",
       "      <td>7.61</td>\n",
       "      <td>7.335</td>\n",
       "      <td>2010-10-31</td>\n",
       "    </tr>\n",
       "    <tr>\n",
       "      <th>3</th>\n",
       "      <td>AMD</td>\n",
       "      <td>7.39</td>\n",
       "      <td>7.110</td>\n",
       "      <td>2010-09-30</td>\n",
       "    </tr>\n",
       "    <tr>\n",
       "      <th>4</th>\n",
       "      <td>AMD</td>\n",
       "      <td>5.69</td>\n",
       "      <td>5.610</td>\n",
       "      <td>2010-08-31</td>\n",
       "    </tr>\n",
       "    <tr>\n",
       "      <th>...</th>\n",
       "      <td>...</td>\n",
       "      <td>...</td>\n",
       "      <td>...</td>\n",
       "      <td>...</td>\n",
       "    </tr>\n",
       "    <tr>\n",
       "      <th>427</th>\n",
       "      <td>MSFT</td>\n",
       "      <td>25.97</td>\n",
       "      <td>25.800</td>\n",
       "      <td>2005-05-31</td>\n",
       "    </tr>\n",
       "    <tr>\n",
       "      <th>428</th>\n",
       "      <td>MSFT</td>\n",
       "      <td>24.88</td>\n",
       "      <td>25.300</td>\n",
       "      <td>2005-04-30</td>\n",
       "    </tr>\n",
       "    <tr>\n",
       "      <th>429</th>\n",
       "      <td>MSFT</td>\n",
       "      <td>24.25</td>\n",
       "      <td>24.170</td>\n",
       "      <td>2005-03-31</td>\n",
       "    </tr>\n",
       "    <tr>\n",
       "      <th>430</th>\n",
       "      <td>MSFT</td>\n",
       "      <td>25.22</td>\n",
       "      <td>25.160</td>\n",
       "      <td>2005-02-28</td>\n",
       "    </tr>\n",
       "    <tr>\n",
       "      <th>431</th>\n",
       "      <td>MSFT</td>\n",
       "      <td>26.35</td>\n",
       "      <td>26.280</td>\n",
       "      <td>2005-01-31</td>\n",
       "    </tr>\n",
       "  </tbody>\n",
       "</table>\n",
       "<p>432 rows × 4 columns</p>\n",
       "</div>"
      ],
      "text/plain": [
       "    Ticker  Open Costs  Closing Costs        Date\n",
       "0      AMD        7.41          7.510  2010-12-31\n",
       "1      AMD        7.29          7.290  2010-11-30\n",
       "2      AMD        7.61          7.335  2010-10-31\n",
       "3      AMD        7.39          7.110  2010-09-30\n",
       "4      AMD        5.69          5.610  2010-08-31\n",
       "..     ...         ...            ...         ...\n",
       "427   MSFT       25.97         25.800  2005-05-31\n",
       "428   MSFT       24.88         25.300  2005-04-30\n",
       "429   MSFT       24.25         24.170  2005-03-31\n",
       "430   MSFT       25.22         25.160  2005-02-28\n",
       "431   MSFT       26.35         26.280  2005-01-31\n",
       "\n",
       "[432 rows x 4 columns]"
      ]
     },
     "execution_count": 2,
     "metadata": {},
     "output_type": "execute_result"
    }
   ],
   "source": [
    "NDQone = 'https://data.nasdaq.com/api/v3/datasets/wiki/'\n",
    "Ticker = ['AMD', 'AMZN', 'AAPL', 'INTC', 'NVDA', 'MSFT']\n",
    "NDQthree = '.json?collapse=monthly&start_date=2005-01-01&end_date=2010-12-01&api_key='\n",
    "APIKEY = '4xTnNzSoDevupJMaZ7wa'\n",
    "\n",
    "dates = []\n",
    "opens = []\n",
    "closes = []\n",
    "stock= []\n",
    "\n",
    "df = pd.DataFrame()\n",
    "\n",
    "for _ in range(0, len(Ticker)):   # 6 tickers per sector\n",
    "    \n",
    "    response = requests.get(NDQone + Ticker[_] + NDQthree + APIKEY)\n",
    "    NDQ_json = response.json()\n",
    "    try:\n",
    "        for x in range(0, 72):    #6 years of data\n",
    "            dates.append(NDQ_json['dataset']['data'][x][0])\n",
    "            opens.append(NDQ_json['dataset']['data'][x][1])\n",
    "            closes.append(NDQ_json['dataset']['data'][x][4])\n",
    "            stock.append(Ticker[_])\n",
    "    except: \n",
    "        print(\"API Data not found \" + str(Ticker[_]))\n",
    "        pass\n",
    "    \n",
    "df[\"Ticker\"] = stock\n",
    "df[\"Open Costs\"] = opens\n",
    "df[\"Closing Costs\"] = closes\n",
    "df[\"Date\"] = dates\n",
    "\n",
    "df"
   ]
  },
  {
   "cell_type": "code",
   "execution_count": 3,
   "id": "c8b27e32",
   "metadata": {
    "scrolled": true
   },
   "outputs": [
    {
     "data": {
      "text/plain": [
       "Text(0.5, 1.0, 'Stock Performance over Time')"
      ]
     },
     "execution_count": 3,
     "metadata": {},
     "output_type": "execute_result"
    },
    {
     "data": {
      "image/png": "[encoded data removed]",
      "text/plain": [
       "<Figure size 432x288 with 1 Axes>"
      ]
     },
     "metadata": {
      "needs_background": "light"
     },
     "output_type": "display_data"
    }
   ],
   "source": [
    "#Splits the DF into 6, per ticker\n",
    "\n",
    "Ticker1_df = df[df['Ticker'] == Ticker[0]].reset_index()\n",
    "Ticker2_df = df[df['Ticker'] == Ticker[1]].reset_index()\n",
    "Ticker3_df = df[df['Ticker'] == Ticker[2]].reset_index()\n",
    "Ticker4_df = df[df['Ticker'] == Ticker[3]].reset_index()\n",
    "Ticker5_df = df[df['Ticker'] == Ticker[4]].reset_index()\n",
    "Ticker6_df = df[df['Ticker'] == Ticker[5]].reset_index()\n",
    "\n",
    "#creates a new DF with ALL 6 tickers side by side\n",
    "Sector_df = pd.DataFrame()\n",
    "Sector_df['Ticker1_Opening'] = Ticker1_df['Open Costs']\n",
    "Sector_df['Ticker2_Opening'] = Ticker2_df['Open Costs']\n",
    "Sector_df['Ticker3_Opening'] = Ticker3_df['Open Costs']\n",
    "Sector_df['Ticker4_Opening'] = Ticker4_df['Open Costs']\n",
    "Sector_df['Ticker5_Opening'] = Ticker5_df['Open Costs']\n",
    "Sector_df['Ticker6_Opening'] = Ticker6_df['Open Costs']\n",
    "\n",
    "#Renames Columns, makes legend a lot easier to make in the plot\n",
    "Sector_df.rename(columns = {'Ticker1_Opening': Ticker[0], 'Ticker2_Opening' : Ticker[1], 'Ticker3_Opening': Ticker[2], 'Ticker4_Opening' : Ticker[3],  'Ticker5_Opening': Ticker[4], 'Ticker6_Opening' : Ticker[5]}, inplace=True)\n",
    "\n",
    "Sector_df.plot()\n",
    "plt.xlabel(\"Time in months\")\n",
    "plt.ylabel(\"Stock Price in USD\")\n",
    "plt.title(\"Stock Performance over Time\")\n"
   ]
  },
  {
   "cell_type": "code",
   "execution_count": 5,
   "id": "0defed59",
   "metadata": {},
   "outputs": [
    {
     "data": {
      "text/plain": [
       "<Figure size 432x288 with 0 Axes>"
      ]
     },
     "metadata": {},
     "output_type": "display_data"
    }
   ],
   "source": [
    "plt.savefig(\"output_data/EnergyStocks.png\")"
   ]
  },
  {
   "cell_type": "code",
   "execution_count": null,
   "id": "0ff72e4b",
   "metadata": {},
   "outputs": [],
   "source": []
  },
  {
   "cell_type": "code",
   "execution_count": null,
   "id": "2d4bc9f1",
   "metadata": {},
   "outputs": [],
   "source": []
  },
  {
   "cell_type": "code",
   "execution_count": null,
   "id": "9f56b70d",
   "metadata": {},
   "outputs": [],
   "source": []
  }
 ],
 "metadata": {
  "kernelspec": {
   "display_name": "Python 3 (ipykernel)",
   "language": "python",
   "name": "python3"
  },
  "language_info": {
   "codemirror_mode": {
    "name": "ipython",
    "version": 3
   },
   "file_extension": ".py",
   "mimetype": "text/x-python",
   "name": "python",
   "nbconvert_exporter": "python",
   "pygments_lexer": "ipython3",
   "version": "3.7.7"
  }
 },
 "nbformat": 4,
 "nbformat_minor": 5
}
